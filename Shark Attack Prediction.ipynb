{
 "cells": [
  {
   "cell_type": "code",
   "execution_count": 313,
   "id": "63b6fbb4",
   "metadata": {},
   "outputs": [
    {
     "data": {
      "text/html": [
       "        <script type=\"text/javascript\">\n",
       "        window.PlotlyConfig = {MathJaxConfig: 'local'};\n",
       "        if (window.MathJax) {MathJax.Hub.Config({SVG: {font: \"STIX-Web\"}});}\n",
       "        if (typeof require !== 'undefined') {\n",
       "        require.undef(\"plotly\");\n",
       "        requirejs.config({\n",
       "            paths: {\n",
       "                'plotly': ['https://cdn.plot.ly/plotly-2.6.3.min']\n",
       "            }\n",
       "        });\n",
       "        require(['plotly'], function(Plotly) {\n",
       "            window._Plotly = Plotly;\n",
       "        });\n",
       "        }\n",
       "        </script>\n",
       "        "
      ]
     },
     "metadata": {},
     "output_type": "display_data"
    }
   ],
   "source": [
    "import numpy as np\n",
    "import pandas as pd\n",
    "import seaborn as sns\n",
    "import matplotlib.pyplot as plt\n",
    "import re\n",
    "import string\n",
    "import plotly.express as px\n",
    "from plotly.offline import init_notebook_mode\n",
    "from sklearn.preprocessing import LabelEncoder\n",
    "from sklearn.tree import DecisionTreeClassifier\n",
    "from sklearn.metrics import accuracy_score, confusion_matrix\n",
    "from sklearn.ensemble import RandomForestClassifier\n",
    "from sklearn.model_selection import train_test_split\n",
    "import pickle\n",
    "\n",
    "init_notebook_mode(connected=True)"
   ]
  },
  {
   "cell_type": "code",
   "execution_count": 254,
   "id": "3149bdce",
   "metadata": {},
   "outputs": [],
   "source": [
    "df = pd.read_csv(\"attacks.csv\", encoding = \"ISO-8859-1\")"
   ]
  },
  {
   "cell_type": "code",
   "execution_count": null,
   "id": "9c4b1e2a",
   "metadata": {},
   "outputs": [],
   "source": [
    "df.head()"
   ]
  },
  {
   "cell_type": "code",
   "execution_count": 256,
   "id": "0a7c72ac",
   "metadata": {},
   "outputs": [
    {
     "data": {
      "text/plain": [
       "(25723, 24)"
      ]
     },
     "execution_count": 256,
     "metadata": {},
     "output_type": "execute_result"
    }
   ],
   "source": [
    "df.shape"
   ]
  },
  {
   "cell_type": "code",
   "execution_count": null,
   "id": "d19afa2c",
   "metadata": {},
   "outputs": [],
   "source": [
    "df.isnull().sum()"
   ]
  },
  {
   "cell_type": "code",
   "execution_count": 258,
   "id": "c9117d2b",
   "metadata": {},
   "outputs": [],
   "source": [
    "df.drop([\"Unnamed: 22\", \"Unnamed: 23\"], axis=1, inplace=True)"
   ]
  },
  {
   "cell_type": "code",
   "execution_count": null,
   "id": "dabb72b1",
   "metadata": {},
   "outputs": [],
   "source": [
    "df.info()"
   ]
  },
  {
   "cell_type": "code",
   "execution_count": 260,
   "id": "2751818c",
   "metadata": {},
   "outputs": [],
   "source": [
    "df.drop([\"Case Number\", \"Date\", \"Year\", \"Area\", \"Location\", \"Name\", \"Injury\",\n",
    "         \"Investigator or Source\", \"pdf\", \"href formula\", \"href\", \n",
    "         \"Case Number.1\", \"Case Number.2\", \"Time\", \"original order\"], axis=1, inplace=True)"
   ]
  },
  {
   "cell_type": "code",
   "execution_count": null,
   "id": "38d9ba1a",
   "metadata": {},
   "outputs": [],
   "source": [
    "df.head()"
   ]
  },
  {
   "cell_type": "code",
   "execution_count": 262,
   "id": "7cad70af",
   "metadata": {},
   "outputs": [
    {
     "data": {
      "text/plain": [
       "Type           19425\n",
       "Country        19471\n",
       "Activity       19965\n",
       "Sex            19986\n",
       "Age            22252\n",
       "Fatal (Y/N)    19960\n",
       "Species        22259\n",
       "dtype: int64"
      ]
     },
     "execution_count": 262,
     "metadata": {},
     "output_type": "execute_result"
    }
   ],
   "source": [
    "df.isnull().sum()"
   ]
  },
  {
   "cell_type": "code",
   "execution_count": 263,
   "id": "36560a08",
   "metadata": {},
   "outputs": [],
   "source": [
    "df.columns = [\"Type\", \"Country\", \"Activity\", \"Sex\", \"Age\", \"Fatal\", \"Species\"]"
   ]
  },
  {
   "cell_type": "code",
   "execution_count": 264,
   "id": "c2c7eb45",
   "metadata": {},
   "outputs": [],
   "source": [
    "df = df.dropna(how=\"any\")"
   ]
  },
  {
   "cell_type": "code",
   "execution_count": 267,
   "id": "c8bf34b4",
   "metadata": {},
   "outputs": [],
   "source": [
    "def preprocess_text(text):\n",
    "    text = text.lower()\n",
    "    text = re.sub(r'\\n', ' ', text)\n",
    "    text = re.sub(r'\\d', '', text)\n",
    "    text = text.translate(str.maketrans(\"\", \"\", string.punctuation))\n",
    "    words = text.split()\n",
    "    words = [re.sub(r'(.)\\1{1,}', r'\\1\\1', word) for word in words]\n",
    "    words = [word.strip() for word in words if len(word.strip()) > 1]\n",
    "    \n",
    "    text = \" \".join(words)\n",
    "    return text"
   ]
  },
  {
   "cell_type": "code",
   "execution_count": 268,
   "id": "9ea73cee",
   "metadata": {},
   "outputs": [],
   "source": [
    "df[\"Species\"] = df[\"Species\"].apply(preprocess_text)"
   ]
  },
  {
   "cell_type": "code",
   "execution_count": 272,
   "id": "05264097",
   "metadata": {},
   "outputs": [],
   "source": [
    "df = df[df[\"Country\"] == \"USA\"]"
   ]
  },
  {
   "cell_type": "code",
   "execution_count": 273,
   "id": "d211372b",
   "metadata": {},
   "outputs": [],
   "source": [
    "df[\"Species\"] = df[\"Species\"].apply(lambda text: text.replace(\"to\", \"\").strip())"
   ]
  },
  {
   "cell_type": "code",
   "execution_count": 274,
   "id": "0ecbc131",
   "metadata": {},
   "outputs": [],
   "source": [
    "df[\"Species\"] = df[\"Species\"].apply(lambda text: text.replace(\"feet\", \"\").strip())"
   ]
  },
  {
   "cell_type": "code",
   "execution_count": 275,
   "id": "06ac434b",
   "metadata": {},
   "outputs": [],
   "source": [
    "df[\"Species\"] = df[\"Species\"].apply(lambda text: text.replace(\"less than\", \"\").strip())"
   ]
  },
  {
   "cell_type": "code",
   "execution_count": 276,
   "id": "da2ae08d",
   "metadata": {},
   "outputs": [],
   "source": [
    "df[\"Species\"] = df[\"Species\"].apply(lambda text: text.replace(\"possibly\", \"\").strip())"
   ]
  },
  {
   "cell_type": "code",
   "execution_count": 277,
   "id": "7a4520d6",
   "metadata": {},
   "outputs": [],
   "source": [
    "df[\"Species\"] = df[\"Species\"].apply(lambda text: text.replace(\"small\", \"\").strip())"
   ]
  },
  {
   "cell_type": "code",
   "execution_count": 278,
   "id": "5319f748",
   "metadata": {},
   "outputs": [],
   "source": [
    "df[\"Species\"] = df[\"Species\"].apply(lambda text: text.replace(\"tall\", \"\").strip())"
   ]
  },
  {
   "cell_type": "code",
   "execution_count": 279,
   "id": "3abb1bd7",
   "metadata": {},
   "outputs": [],
   "source": [
    "df[\"Species\"] = df[\"Species\"].apply(lambda text: text.replace(\"brown\", \"\").strip())\n",
    "df[\"Species\"] = df[\"Species\"].apply(lambda text: text.replace(\"cm\", \"\").strip())\n",
    "df[\"Species\"] = df[\"Species\"].apply(lambda text: text.replace(\"greycolored\", \"\").strip())"
   ]
  },
  {
   "cell_type": "code",
   "execution_count": 280,
   "id": "f3c6bdc8",
   "metadata": {},
   "outputs": [],
   "source": [
    "def or_split(text):\n",
    "    if \"or\" in text:\n",
    "        return text.split(\"or\")[0].strip()\n",
    "    else:\n",
    "        return text"
   ]
  },
  {
   "cell_type": "code",
   "execution_count": 282,
   "id": "88dc4891",
   "metadata": {},
   "outputs": [],
   "source": [
    "df[\"Species\"] = df[\"Species\"].apply(or_split)"
   ]
  },
  {
   "cell_type": "code",
   "execution_count": 283,
   "id": "29fbba4b",
   "metadata": {},
   "outputs": [],
   "source": [
    "def len_strip(text):\n",
    "    if len(text.split()) > 2:\n",
    "        words = text.split()[:2]\n",
    "        text = \" \".join(words)\n",
    "        return text\n",
    "    else:\n",
    "        return text"
   ]
  },
  {
   "cell_type": "code",
   "execution_count": 285,
   "id": "07248129",
   "metadata": {},
   "outputs": [],
   "source": [
    "df[\"Species\"] = df[\"Species\"].apply(len_strip)"
   ]
  },
  {
   "cell_type": "code",
   "execution_count": 286,
   "id": "5c279786",
   "metadata": {},
   "outputs": [],
   "source": [
    "df[\"Species\"] = df[\"Species\"].replace({\n",
    " 'shark': 'unknown',\n",
    " 'juvenile blacktip': 'blacktip shark',\n",
    " 'blacktip': 'blacktip shark',\n",
    " 'tp shark': 'unknown',\n",
    " 'whitetip reef': 'reef shark',\n",
    " 'thought involve': 'unknown',\n",
    " 'shark  blactip': 'blacktip shark',\n",
    " 'p': 'unknown',\n",
    " 'shark involvement': 'unknown',\n",
    " '': 'unknown',\n",
    " 'yearold pound': 'unknown',\n",
    " 'shark tiger': 'tiger shark',\n",
    " 'spinner': 'spinner shark',\n",
    " 'grey reef': 'reef shark',\n",
    " 'juvenile white': 'white shark',\n",
    " 'unknown but': 'unknown',\n",
    " 'unidentified species': 'unknown',\n",
    " '\\x93  shark\\x94': 'unknown',\n",
    " '\\x93\\x94 shark': 'unknown',\n",
    " 'bite diameter': 'unknown',\n",
    " 'species unidentified': 'unknown',\n",
    " 'grey col': 'unknown',\n",
    " 'hammerhead': 'hammerhead shark',\n",
    " 'shark bull': 'bull shark',\n",
    " 'shark oth': 'unknown',\n",
    " 'questionable incident': 'unknown',\n",
    " 'large white': 'white shark',\n",
    " 'shark  blacktip': 'blacktip shark',\n",
    " 'shark was': 'unknown',\n",
    " 'shark probably': 'unknown',\n",
    " 'sh': 'unknown',\n",
    " 'shark seen': 'unknown',\n",
    " 'shark spinner': 'spinner shark',\n",
    " 'young shark': 'unknown',\n",
    " 'unidentified shark': 'unknown',\n",
    " 'said involve': 'unknown',\n",
    " 'bull': 'bull shark',\n",
    " 'lb shark': 'unknown',\n",
    " 'sixgill': 'unknown',\n",
    " 'hammerhead sharko': 'hammerhead shark',\n",
    " 'bull sandbar': 'bull shark',\n",
    " 'maculpinnis': 'unknown',\n",
    " 'local auth': 'unknown',\n",
    " 'hand found': 'unknown',\n",
    " 'h': 'unknown',\n",
    " 'larger shark': 'unknown',\n",
    " 'rep': 'unknown',\n",
    " 'leucas': 'unknown'\n",
    "})"
   ]
  },
  {
   "cell_type": "code",
   "execution_count": 289,
   "id": "b5160a4f",
   "metadata": {},
   "outputs": [],
   "source": [
    "df.drop(\"Country\", axis=1, inplace=True)"
   ]
  },
  {
   "cell_type": "code",
   "execution_count": 290,
   "id": "8f34946f",
   "metadata": {},
   "outputs": [
    {
     "data": {
      "text/plain": [
       "Activity\n",
       "Surfing            266\n",
       "Swimming           100\n",
       "Wading              49\n",
       "Spearfishing        31\n",
       "Fishing             25\n",
       "Standing            22\n",
       "Snorkeling          14\n",
       "Body boarding       13\n",
       "Boogie boarding     11\n",
       "Scuba diving        10\n",
       "Name: count, dtype: int64"
      ]
     },
     "execution_count": 290,
     "metadata": {},
     "output_type": "execute_result"
    }
   ],
   "source": [
    "df[\"Activity\"].value_counts().head(10)"
   ]
  },
  {
   "cell_type": "code",
   "execution_count": 291,
   "id": "d1dad328",
   "metadata": {},
   "outputs": [],
   "source": [
    "def activity_split(text):\n",
    "    if \"/\" in text:\n",
    "        text = text.split(\"/\")[0].strip()\n",
    "        return text\n",
    "    \n",
    "    else:\n",
    "        return text"
   ]
  },
  {
   "cell_type": "code",
   "execution_count": 292,
   "id": "04969ff4",
   "metadata": {},
   "outputs": [],
   "source": [
    "df[\"Activity\"] = df[\"Activity\"].apply(activity_split)"
   ]
  },
  {
   "cell_type": "code",
   "execution_count": 293,
   "id": "139199f1",
   "metadata": {},
   "outputs": [],
   "source": [
    "def activity_finder(text):\n",
    "    activities = [\"Surfing\", \"Swimming\", \"Wading\", \"Spearfishing\", \"Standing\", \"Fishing\", \"Snorkeling\", \"Scuba diving\", \"boarding\"]\n",
    "    for i in range(len(activities)):\n",
    "        if activities[i] in text:\n",
    "            return activities[i]\n",
    "        \n",
    "    return \"Other\""
   ]
  },
  {
   "cell_type": "code",
   "execution_count": 294,
   "id": "15f8a483",
   "metadata": {},
   "outputs": [],
   "source": [
    "df[\"Activity\"] = df[\"Activity\"].apply(activity_finder)"
   ]
  },
  {
   "cell_type": "code",
   "execution_count": 295,
   "id": "342a9cb2",
   "metadata": {},
   "outputs": [],
   "source": [
    "df = df[[\"Type\", \"Activity\", \"Sex\", \"Age\", \"Species\", \"Fatal\"]]"
   ]
  },
  {
   "cell_type": "code",
   "execution_count": null,
   "id": "a6688543",
   "metadata": {},
   "outputs": [],
   "source": [
    "df.head()"
   ]
  },
  {
   "cell_type": "code",
   "execution_count": 297,
   "id": "f1f8c30f",
   "metadata": {},
   "outputs": [
    {
     "data": {
      "text/plain": [
       "<AxesSubplot: xlabel='Type', ylabel='count'>"
      ]
     },
     "execution_count": 297,
     "metadata": {},
     "output_type": "execute_result"
    },
    {
     "data": {
      "image/png": "[encoded data removed]",
      "text/plain": [
       "<Figure size 640x480 with 1 Axes>"
      ]
     },
     "metadata": {},
     "output_type": "display_data"
    }
   ],
   "source": [
    "sns.countplot(x=\"Type\", data=df)"
   ]
  },
  {
   "cell_type": "code",
   "execution_count": 298,
   "id": "0e6471fb",
   "metadata": {},
   "outputs": [
    {
     "data": {
      "image/png": "[encoded data removed]",
      "text/plain": [
       "<Figure size 1500x700 with 1 Axes>"
      ]
     },
     "metadata": {},
     "output_type": "display_data"
    }
   ],
   "source": [
    "plt.figure(figsize=(15, 7))\n",
    "sns.countplot(x=\"Activity\", data=df)\n",
    "plt.show()"
   ]
  },
  {
   "cell_type": "code",
   "execution_count": 299,
   "id": "7f01ff2b",
   "metadata": {},
   "outputs": [
    {
     "data": {
      "text/plain": [
       "array(['57', '52', '15', '29', '25', '54', '40', '18', '69', '13', '34',\n",
       "       '50', '46', '14', '20', '28', '17', '58', '36', '60s', '51', '22',\n",
       "       '21', '43', '61', '59', '42', '6', '19', '48', '23', '26', '71',\n",
       "       '44', '27', '12', '10', '31', '38', '68', '9', '16', '11', '63',\n",
       "       '70', '53', '7', '20s', 'Teen', '39', '37', '30', '45', '32', '60',\n",
       "       '55', '8', '56', '33', '41', '49', '66', '24', '35', '30s', '47',\n",
       "       '\\xa0 ', '6½', '73', '5', '62', ' 28', \"60's\", 'adult', ' 43'],\n",
       "      dtype=object)"
      ]
     },
     "execution_count": 299,
     "metadata": {},
     "output_type": "execute_result"
    }
   ],
   "source": [
    "df[\"Age\"].unique()"
   ]
  },
  {
   "cell_type": "code",
   "execution_count": 302,
   "id": "df8b4b0c",
   "metadata": {},
   "outputs": [],
   "source": [
    "df[\"Age\"] = df[\"Age\"].replace({\n",
    "    \"Teen\": \"18\",\n",
    "    \"adult\": \"25\",\n",
    "    \"\\xa0 \": \"23\",\n",
    "    \"6½\": \"21\",\n",
    "    \"30s\": \"30\",\n",
    "    \"60s\": \"60\",\n",
    "    \"60's\": \"60\",\n",
    "    \"20s\": \"20\"\n",
    "})"
   ]
  },
  {
   "cell_type": "code",
   "execution_count": 303,
   "id": "27e27948",
   "metadata": {},
   "outputs": [],
   "source": [
    "df[\"Age\"] = df[\"Age\"].astype(\"int64\")"
   ]
  },
  {
   "cell_type": "code",
   "execution_count": 304,
   "id": "952d92cf",
   "metadata": {},
   "outputs": [
    {
     "data": {
      "text/plain": [
       "Sex\n",
       "M      693\n",
       "F      140\n",
       "lli      1\n",
       "Name: count, dtype: int64"
      ]
     },
     "execution_count": 304,
     "metadata": {},
     "output_type": "execute_result"
    }
   ],
   "source": [
    "df[\"Sex\"].value_counts()"
   ]
  },
  {
   "cell_type": "code",
   "execution_count": 305,
   "id": "b6aad81a",
   "metadata": {},
   "outputs": [],
   "source": [
    "df[\"Sex\"] = df[\"Sex\"].replace({\n",
    "    \"lli\": \"F\"\n",
    "})"
   ]
  },
  {
   "cell_type": "code",
   "execution_count": 306,
   "id": "a069fb64",
   "metadata": {},
   "outputs": [
    {
     "name": "stdout",
     "output_type": "stream",
     "text": [
      "<class 'pandas.core.frame.DataFrame'>\n",
      "Index: 834 entries, 0 to 6226\n",
      "Data columns (total 6 columns):\n",
      " #   Column    Non-Null Count  Dtype \n",
      "---  ------    --------------  ----- \n",
      " 0   Type      834 non-null    object\n",
      " 1   Activity  834 non-null    object\n",
      " 2   Sex       834 non-null    object\n",
      " 3   Age       834 non-null    int64 \n",
      " 4   Species   834 non-null    object\n",
      " 5   Fatal     834 non-null    object\n",
      "dtypes: int64(1), object(5)\n",
      "memory usage: 45.6+ KB\n"
     ]
    }
   ],
   "source": [
    "df.info()"
   ]
  },
  {
   "cell_type": "code",
   "execution_count": 249,
   "id": "cda4dd6b",
   "metadata": {},
   "outputs": [],
   "source": [
    "def label_encoder(column):\n",
    "    le = LabelEncoder().fit(column)\n",
    "    print(column.name, le.classes_)\n",
    "    return le.transform(column)"
   ]
  },
  {
   "cell_type": "code",
   "execution_count": 307,
   "id": "3cb18d0f",
   "metadata": {},
   "outputs": [
    {
     "name": "stdout",
     "output_type": "stream",
     "text": [
      "Type ['Boating' 'Invalid' 'Provoked' 'Sea Disaster' 'Unprovoked']\n",
      "Activity ['Fishing' 'Other' 'Scuba diving' 'Snorkeling' 'Spearfishing' 'Standing'\n",
      " 'Surfing' 'Swimming' 'Wading' 'boarding']\n",
      "Sex ['F' 'M']\n",
      "Species ['angel shark' 'blacktip reef' 'blacktip shark' 'blue shark'\n",
      " 'bonita sharkk' 'bull shark' 'dogfish shark' 'foot shark'\n",
      " 'galapagos shark' 'hammerhead shark' 'juvenile shark' 'juvenile tiger'\n",
      " 'lb dog' 'lb reef' 'lb sand' 'lemon shark' 'mako shark' 'nurse shark'\n",
      " 'reef shark' 'sand shark' 'sandbar shark' 'sandshark' 'sandtiger shark'\n",
      " 'sevengill shark' 'shark species' 'shark with' 'sharks' 'spinner shark'\n",
      " 'thresher' 'thresher shark' 'tiger shark' 'unidentified' 'unknown'\n",
      " 'white shark']\n",
      "Fatal ['N' 'Y']\n"
     ]
    }
   ],
   "source": [
    "cols = [\"Type\", \"Activity\", \"Sex\", \"Species\", \"Fatal\"]\n",
    "for col in cols:\n",
    "    df[col] = label_encoder(df[col])"
   ]
  },
  {
   "cell_type": "code",
   "execution_count": 308,
   "id": "be6af977",
   "metadata": {},
   "outputs": [],
   "source": [
    "X = df.drop(\"Fatal\", axis=1)\n",
    "y = df[\"Fatal\"]"
   ]
  },
  {
   "cell_type": "code",
   "execution_count": 309,
   "id": "9ba3d505",
   "metadata": {},
   "outputs": [],
   "source": [
    "X_train, X_test, y_train, y_test = train_test_split(X, y, test_size=0.2, random_state=4242)"
   ]
  },
  {
   "cell_type": "code",
   "execution_count": 310,
   "id": "2cc2559b",
   "metadata": {},
   "outputs": [
    {
     "data": {
      "text/html": [
       "<style>#sk-container-id-1 {color: black;background-color: white;}#sk-container-id-1 pre{padding: 0;}#sk-container-id-1 div.sk-toggleable {background-color: white;}#sk-container-id-1 label.sk-toggleable__label {cursor: pointer;display: block;width: 100%;margin-bottom: 0;padding: 0.3em;box-sizing: border-box;text-align: center;}#sk-container-id-1 label.sk-toggleable__label-arrow:before {content: \"▸\";float: left;margin-right: 0.25em;color: #696969;}#sk-container-id-1 label.sk-toggleable__label-arrow:hover:before {color: black;}#sk-container-id-1 div.sk-estimator:hover label.sk-toggleable__label-arrow:before {color: black;}#sk-container-id-1 div.sk-toggleable__content {max-height: 0;max-width: 0;overflow: hidden;text-align: left;background-color: #f0f8ff;}#sk-container-id-1 div.sk-toggleable__content pre {margin: 0.2em;color: black;border-radius: 0.25em;background-color: #f0f8ff;}#sk-container-id-1 input.sk-toggleable__control:checked~div.sk-toggleable__content {max-height: 200px;max-width: 100%;overflow: auto;}#sk-container-id-1 input.sk-toggleable__control:checked~label.sk-toggleable__label-arrow:before {content: \"▾\";}#sk-container-id-1 div.sk-estimator input.sk-toggleable__control:checked~label.sk-toggleable__label {background-color: #d4ebff;}#sk-container-id-1 div.sk-label input.sk-toggleable__control:checked~label.sk-toggleable__label {background-color: #d4ebff;}#sk-container-id-1 input.sk-hidden--visually {border: 0;clip: rect(1px 1px 1px 1px);clip: rect(1px, 1px, 1px, 1px);height: 1px;margin: -1px;overflow: hidden;padding: 0;position: absolute;width: 1px;}#sk-container-id-1 div.sk-estimator {font-family: monospace;background-color: #f0f8ff;border: 1px dotted black;border-radius: 0.25em;box-sizing: border-box;margin-bottom: 0.5em;}#sk-container-id-1 div.sk-estimator:hover {background-color: #d4ebff;}#sk-container-id-1 div.sk-parallel-item::after {content: \"\";width: 100%;border-bottom: 1px solid gray;flex-grow: 1;}#sk-container-id-1 div.sk-label:hover label.sk-toggleable__label {background-color: #d4ebff;}#sk-container-id-1 div.sk-serial::before {content: \"\";position: absolute;border-left: 1px solid gray;box-sizing: border-box;top: 0;bottom: 0;left: 50%;z-index: 0;}#sk-container-id-1 div.sk-serial {display: flex;flex-direction: column;align-items: center;background-color: white;padding-right: 0.2em;padding-left: 0.2em;position: relative;}#sk-container-id-1 div.sk-item {position: relative;z-index: 1;}#sk-container-id-1 div.sk-parallel {display: flex;align-items: stretch;justify-content: center;background-color: white;position: relative;}#sk-container-id-1 div.sk-item::before, #sk-container-id-1 div.sk-parallel-item::before {content: \"\";position: absolute;border-left: 1px solid gray;box-sizing: border-box;top: 0;bottom: 0;left: 50%;z-index: -1;}#sk-container-id-1 div.sk-parallel-item {display: flex;flex-direction: column;z-index: 1;position: relative;background-color: white;}#sk-container-id-1 div.sk-parallel-item:first-child::after {align-self: flex-end;width: 50%;}#sk-container-id-1 div.sk-parallel-item:last-child::after {align-self: flex-start;width: 50%;}#sk-container-id-1 div.sk-parallel-item:only-child::after {width: 0;}#sk-container-id-1 div.sk-dashed-wrapped {border: 1px dashed gray;margin: 0 0.4em 0.5em 0.4em;box-sizing: border-box;padding-bottom: 0.4em;background-color: white;}#sk-container-id-1 div.sk-label label {font-family: monospace;font-weight: bold;display: inline-block;line-height: 1.2em;}#sk-container-id-1 div.sk-label-container {text-align: center;}#sk-container-id-1 div.sk-container {/* jupyter's `normalize.less` sets `[hidden] { display: none; }` but bootstrap.min.css set `[hidden] { display: none !important; }` so we also need the `!important` here to be able to override the default hidden behavior on the sphinx rendered scikit-learn.org. See: https://github.com/scikit-learn/scikit-learn/issues/21755 */display: inline-block !important;position: relative;}#sk-container-id-1 div.sk-text-repr-fallback {display: none;}</style><div id=\"sk-container-id-1\" class=\"sk-top-container\"><div class=\"sk-text-repr-fallback\"><pre>RandomForestClassifier()</pre><b>In a Jupyter environment, please rerun this cell to show the HTML representation or trust the notebook. <br />On GitHub, the HTML representation is unable to render, please try loading this page with nbviewer.org.</b></div><div class=\"sk-container\" hidden><div class=\"sk-item\"><div class=\"sk-estimator sk-toggleable\"><input class=\"sk-toggleable__control sk-hidden--visually\" id=\"sk-estimator-id-1\" type=\"checkbox\" checked><label for=\"sk-estimator-id-1\" class=\"sk-toggleable__label sk-toggleable__label-arrow\">RandomForestClassifier</label><div class=\"sk-toggleable__content\"><pre>RandomForestClassifier()</pre></div></div></div></div></div>"
      ],
      "text/plain": [
       "RandomForestClassifier()"
      ]
     },
     "execution_count": 310,
     "metadata": {},
     "output_type": "execute_result"
    }
   ],
   "source": [
    "rf = RandomForestClassifier()\n",
    "rf.fit(X_train, y_train)"
   ]
  },
  {
   "cell_type": "code",
   "execution_count": 311,
   "id": "103e1f48",
   "metadata": {},
   "outputs": [],
   "source": [
    "y_pred = rf.predict(X_test)"
   ]
  },
  {
   "cell_type": "code",
   "execution_count": 316,
   "id": "c9bdc028",
   "metadata": {},
   "outputs": [
    {
     "data": {
      "text/plain": [
       "0.9700598802395209"
      ]
     },
     "execution_count": 316,
     "metadata": {},
     "output_type": "execute_result"
    }
   ],
   "source": [
    "accuracy_score(y_test, y_pred)"
   ]
  },
  {
   "cell_type": "code",
   "execution_count": 318,
   "id": "6428f3d4",
   "metadata": {},
   "outputs": [
    {
     "data": {
      "text/plain": [
       "<AxesSubplot: >"
      ]
     },
     "execution_count": 318,
     "metadata": {},
     "output_type": "execute_result"
    },
    {
     "data": {
      "image/png": "[encoded data removed]",
      "text/plain": [
       "<Figure size 640x480 with 2 Axes>"
      ]
     },
     "metadata": {},
     "output_type": "display_data"
    }
   ],
   "source": [
    "cm = confusion_matrix(y_test, y_pred)\n",
    "sns.heatmap(cm, annot=True, fmt=\".0f\", cmap=\"Pastel2\")"
   ]
  },
  {
   "cell_type": "code",
   "execution_count": 317,
   "id": "36588bcd",
   "metadata": {},
   "outputs": [],
   "source": [
    "pickle.dump(rf, open(\"rf.pkl\", \"wb\"))"
   ]
  },
  {
   "cell_type": "code",
   "execution_count": null,
   "id": "2940284e",
   "metadata": {},
   "outputs": [],
   "source": []
  }
 ],
 "metadata": {
  "kernelspec": {
   "display_name": "Python 3 (ipykernel)",
   "language": "python",
   "name": "python3"
  },
  "language_info": {
   "codemirror_mode": {
    "name": "ipython",
    "version": 3
   },
   "file_extension": ".py",
   "mimetype": "text/x-python",
   "name": "python",
   "nbconvert_exporter": "python",
   "pygments_lexer": "ipython3",
   "version": "3.11.2"
  }
 },
 "nbformat": 4,
 "nbformat_minor": 5
}
